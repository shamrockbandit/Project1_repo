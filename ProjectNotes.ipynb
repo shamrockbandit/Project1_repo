{
 "cells": [
  {
   "cell_type": "markdown",
   "metadata": {},
   "source": [
    "## Notes\n",
    "* Work each hypothesis in its own jupyter notebook\n",
    "* Borrow from the readData notebook as needed\n",
    "* Check Day 3 exercise fro T-Test and sctter plots"
   ]
  },
  {
   "cell_type": "markdown",
   "metadata": {},
   "source": [
    "## 1. Personal Freedom vs. Economic Freedom (Meaghan)\n",
    "### Hypothesis \n",
    "* Countries with high personal freedom will also have high economic freedom\n",
    "* Null Hypothesis = No relationship between economic and personal freedom.\n",
    "### Data\n",
    "* Pf_score, ef_score\n",
    "### Stats\n",
    "* Do a independent t-test\n",
    "### Plot \n",
    "* Scatter plot with ef_score and pf_score as axes\n"
   ]
  },
  {
   "cell_type": "markdown",
   "metadata": {},
   "source": [
    "## 2.   Human Freedom vs. Money\n",
    "### Hypothesis\n",
    "* Countries with high money growth have higher human freedom\n",
    "* Null Hypothesis - No relationship between Money growth and Human Freedom\n",
    "### Data\n",
    "* ef_money_growth\n",
    "* hf_score\n",
    "### Stats\n",
    "* Do a independent t-test\n",
    "### Plot\n",
    "* Scatter Plot"
   ]
  },
  {
   "cell_type": "markdown",
   "metadata": {},
   "source": [
    "## 3. Human Freedom vs Free Internent\n",
    "### Hypothesis (Eden)\n",
    "* Countries with high state control of internent access have low human freedom\n",
    "* Null Hypo - No relationship between the 2\n",
    "### Data\n",
    "* hf_score = Human Freedom Score\n",
    "* pf_expression_internet\n",
    "### Stats\n",
    "* Do a independent t-test with hf_score and pf_expression_internet\n",
    "### Plot\n",
    "* Scatter Plot"
   ]
  },
  {
   "cell_type": "markdown",
   "metadata": {},
   "source": [
    "## 4. What happened Brazil?\n",
    "### Hypothesis\n",
    "* Govt consumption of economy is significant factor in  to lowering Human Freedom score in Brazil\n",
    "* Null Hypo = no relationship\n",
    "### Data\n",
    "* ef_government_consumption\n",
    "* hf_score\n",
    "### Stats\n",
    "* Do a independent t-test with hf_score and ef_government_consumption\n",
    "### Plot\n",
    "* Trend on Brazil hf_score and ef_government_consumption (line chart)"
   ]
  },
  {
   "cell_type": "markdown",
   "metadata": {},
   "source": [
    "## 5. Regions Trend\n",
    "### Hypothesis -\n",
    "* Some regions are decreasing human freedom scores more than others\n",
    "### Data\n",
    "* Groupby Region\n",
    "* Hf_score, stderr\n",
    "* Ef_score, stderr\n",
    "* Pf_score, sderr\n",
    "### Plots\n",
    "* Line chart with all regions by hf_score with stderr\n",
    "* Line chart with all regions by ef_score with stderr\n",
    "* Line Chart with all regions by pf_score with stderr"
   ]
  },
  {
   "cell_type": "code",
   "execution_count": null,
   "metadata": {},
   "outputs": [],
   "source": []
  }
 ],
 "metadata": {
  "kernelspec": {
   "display_name": "Python 3",
   "language": "python",
   "name": "python3"
  },
  "language_info": {
   "codemirror_mode": {
    "name": "ipython",
    "version": 3
   },
   "file_extension": ".py",
   "mimetype": "text/x-python",
   "name": "python",
   "nbconvert_exporter": "python",
   "pygments_lexer": "ipython3",
   "version": "3.6.9"
  }
 },
 "nbformat": 4,
 "nbformat_minor": 2
}
