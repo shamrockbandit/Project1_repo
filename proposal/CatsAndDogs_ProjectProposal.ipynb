{
 "cells": [
  {
   "cell_type": "markdown",
   "metadata": {},
   "source": [
    "# Cool for Cats and Dogs Project\n",
    "\n",
    "## Teamates\n",
    "* Meagan Colley\n",
    "* Eden Dadi\n",
    "* Scott Barnett\n",
    "* Jim Comas\n",
    "\n",
    "## Project Scope\n",
    "\n",
    "Our project is to compare Cat and Dog charatcteristics and uncover patterns in popularity.\n",
    "* What are the characteristics of popular breeds?\n",
    "* Which are friendliest?\n",
    "* Which are most popular?\n",
    "* Where are people getting their pets from\n",
    "* What kinds and breeds of cats and dogs are people getting?  \n",
    "* What breeds of cats and dogs are up for adoption?\n",
    "* What breads of cats and dogs are people posting pictures of\n",
    "\n",
    "\n",
    "## Possible Data sets\n",
    "\n",
    "* Cat and dog breeds parameters https://www.kaggle.com/hocop1/cat-and-dog-breeds-parameters \n",
    "* A Guide to Worldwide Pet Ownership  https://www.petsecure.com.au/pet-care/a-guide-to-worldwide-pet-ownership/\n",
    "* American Kennel Club Dog Breeds That Start with B - American Kennel Club https://www.akc.org/dog-breeds/page/2/?letter=B\n",
    "* Dogs vs. Cats https://www.kaggle.com/c/dogs-vs-cats\n",
    "* RescueGroups.org Adoptable Pet Data API https://rescuegroups.org/services/adoptable-pet-data-api/\n",
    "* Dog API https://dog.ceo/dog-api/\n",
    "* TheCatAPI - Cats as a Service, Everyday is Caturday. https://thecatapi.com/\n",
    "* Animal Sheletering Pets by the numbers https://www.animalsheltering.org/page/pets-by-the-numbers\n",
    "\n",
    "On Wednesday we will look at how to gather the data and organize into data frames.  We will also start to understand roles for each teammate."
   ]
  },
  {
   "cell_type": "code",
   "execution_count": null,
   "metadata": {},
   "outputs": [],
   "source": []
  },
  {
   "cell_type": "code",
   "execution_count": null,
   "metadata": {},
   "outputs": [],
   "source": []
  }
 ],
 "metadata": {
  "kernelspec": {
   "display_name": "Python [conda env:PythonData] *",
   "language": "python",
   "name": "conda-env-PythonData-py"
  },
  "language_info": {
   "codemirror_mode": {
    "name": "ipython",
    "version": 3
   },
   "file_extension": ".py",
   "mimetype": "text/x-python",
   "name": "python",
   "nbconvert_exporter": "python",
   "pygments_lexer": "ipython3",
   "version": "3.6.9"
  }
 },
 "nbformat": 4,
 "nbformat_minor": 2
}
