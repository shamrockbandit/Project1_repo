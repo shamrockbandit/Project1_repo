{
 "cells": [
  {
   "cell_type": "code",
   "execution_count": null,
   "metadata": {},
   "outputs": [],
   "source": [
    "#  Notebook exeercising API\n"
   ]
  },
  {
   "cell_type": "code",
   "execution_count": 5,
   "metadata": {},
   "outputs": [
    {
     "name": "stdout",
     "output_type": "stream",
     "text": [
      "TheCatAPI_Key = b9d3f1a6-925b-4621-99ad-0fadc64d705d\n"
     ]
    }
   ],
   "source": [
    "# Cat API - images of cats\n",
    "# https://thecatapi.com/thanks\n",
    "# https://docs.thecatapi.com/api-reference/images/images-search\n",
    "# Dependencies and Setup\n",
    "import matplotlib.pyplot as plt\n",
    "import pandas as pd\n",
    "import numpy as np\n",
    "import requests\n",
    "import time\n",
    "\n",
    "import json\n",
    "import datetime\n",
    "\n",
    "# Import API key\n",
    "from api_keys import TheCatAPI_key\n",
    "\n",
    "print(f\"TheCatAPI_Key = {TheCatAPI_key}\")\n",
    "\n",
    "# Output File (CSV)\n",
    "output_data_file = \"output_data/theCatAPI.csv\""
   ]
  },
  {
   "cell_type": "markdown",
   "metadata": {},
   "source": [
    "# Perform TheCatAPI calls"
   ]
  },
  {
   "cell_type": "code",
   "execution_count": null,
   "metadata": {},
   "outputs": [],
   "source": [
    "url = \"https://api.thecatapi.com/v1/images/search\"\n",
    "\n",
    "query_url = f\"{url}x-api-key={TheCatAPI_key}&\""
   ]
  },
  {
   "cell_type": "code",
   "execution_count": null,
   "metadata": {},
   "outputs": [],
   "source": [
    "# Do a request\n",
    "    \n",
    "res = requests.get(query_url + city)\n",
    "resStatus = res.status_code\n",
    "response = res.json()\n",
    "\n",
    "print(f\"Status: {res.status})\n",
    "response"
   ]
  }
 ],
 "metadata": {
  "kernelspec": {
   "display_name": "Python [conda env:PythonData] *",
   "language": "python",
   "name": "conda-env-PythonData-py"
  },
  "language_info": {
   "codemirror_mode": {
    "name": "ipython",
    "version": 3
   },
   "file_extension": ".py",
   "mimetype": "text/x-python",
   "name": "python",
   "nbconvert_exporter": "python",
   "pygments_lexer": "ipython3",
   "version": "3.6.9"
  }
 },
 "nbformat": 4,
 "nbformat_minor": 2
}
